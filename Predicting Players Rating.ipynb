{
 "cells": [
  {
   "cell_type": "markdown",
   "metadata": {},
   "source": [
    "### MACHINE LEARNING - PROJECT SUBMISSION\n",
    "### Project: Predicting Players Rating"
   ]
  },
  {
   "cell_type": "markdown",
   "metadata": {},
   "source": [
    "In this project you are going to predict the overall rating of soccer player based on their attributes such as 'crossing', 'finishing etc.\n",
    "\n",
    "The dataset you are going to use is from European Soccer Database (https://www.kaggle.com/hugomathien/soccer) has more than 25,000 matches and more than 10,000 players for European professional soccer seasons from 2008 to 2016.\n",
    "\n",
    "Download the data in the same folder and run the following commmand to get it in the environment"
   ]
  },
  {
   "cell_type": "markdown",
   "metadata": {},
   "source": [
    "#### About the Dataset"
   ]
  },
  {
   "cell_type": "markdown",
   "metadata": {},
   "source": [
    "The ultimate Soccer database for data analysis and machine learning\n",
    "\n",
    "The dataset comes in the form of an SQL database and contains statistics of about 25,000 football matches, from the top football league of 11 European Countries. It covers seasons from 2008 to\n",
    "2016 and contains match statistics (i.e: scores, corners, fouls etc...) as well as the team formations, with player names and a pair of coordinates to indicate their position on the pitch.\n",
    "\n",
    "    +25,000 matches\n",
    "    +10,000 players\n",
    "    11 European Countries with their lead championship\n",
    "    Seasons 2008 to 2016\n",
    "    Players and Teams' attributes* sourced from EA Sports' FIFA video game series, including the weekly updates\n",
    "    Team line up with squad formation (X, Y coordinates)\n",
    "    Betting odds from up to 10 providers\n",
    "    Detailed match events (goal types, possession, corner, cross, fouls, cards etc...) for +10,000 matches\n",
    "\n",
    "The dataset also has a set of about 35 statistics for each player, derived from EA Sports' FIFA video games. It is not just the stats that come with a new version of the game but also the weekly\n",
    "updates. So for instance if a player has performed poorly over a period of time and his stats get impacted in FIFA, you would normally see the same in the dataset."
   ]
  },
  {
   "cell_type": "code",
   "execution_count": 3,
   "metadata": {},
   "outputs": [],
   "source": [
    "import numpy as np\n",
    "import pandas as pd\n",
    "import sqlite3\n",
    "%matplotlib notebook\n",
    "import matplotlib.pyplot as plt\n",
    "import xgboost as xgb\n",
    "from xgboost.sklearn import XGBRegressor\n",
    "from xgboost import plot_importance\n",
    "\n",
    "from sklearn.linear_model import LinearRegression\n",
    "from sklearn.tree import DecisionTreeRegressor\n",
    "from sklearn.ensemble import RandomForestRegressor\n",
    "from sklearn.preprocessing import Imputer, StandardScaler\n",
    "from sklearn.feature_selection import SelectFromModel\n",
    "from sklearn.model_selection import train_test_split, GridSearchCV, ShuffleSplit, RandomizedSearchCV\n",
    "from sklearn.pipeline import make_pipeline\n",
    "\n",
    "import pickle\n",
    "\n",
    "import warnings\n",
    "warnings.filterwarnings('ignore')"
   ]
  },
  {
   "cell_type": "code",
   "execution_count": 4,
   "metadata": {},
   "outputs": [],
   "source": [
    "# Create your connection\n",
    "cnx = sqlite3.connect('database.sqlite')\n",
    "dd = pd.read_sql_query(\"SELECT name FROM sqlite_master WHERE type='table'\", cnx)"
   ]
  },
  {
   "cell_type": "code",
   "execution_count": 5,
   "metadata": {},
   "outputs": [
    {
     "name": "stdout",
     "output_type": "stream",
     "text": [
      "                name\n",
      "0    sqlite_sequence\n",
      "1  Player_Attributes\n",
      "2             Player\n",
      "3              Match\n",
      "4             League\n",
      "5            Country\n",
      "6               Team\n",
      "7    Team_Attributes\n"
     ]
    }
   ],
   "source": [
    "print(dd)"
   ]
  },
  {
   "cell_type": "code",
   "execution_count": 6,
   "metadata": {},
   "outputs": [],
   "source": [
    "df = pd.read_sql_query(\"SELECT * FROM Player_Attributes\", cnx)"
   ]
  },
  {
   "cell_type": "code",
   "execution_count": 7,
   "metadata": {},
   "outputs": [
    {
     "data": {
      "text/html": [
       "<div>\n",
       "<style scoped>\n",
       "    .dataframe tbody tr th:only-of-type {\n",
       "        vertical-align: middle;\n",
       "    }\n",
       "\n",
       "    .dataframe tbody tr th {\n",
       "        vertical-align: top;\n",
       "    }\n",
       "\n",
       "    .dataframe thead th {\n",
       "        text-align: right;\n",
       "    }\n",
       "</style>\n",
       "<table border=\"1\" class=\"dataframe\">\n",
       "  <thead>\n",
       "    <tr style=\"text-align: right;\">\n",
       "      <th></th>\n",
       "      <th>id</th>\n",
       "      <th>player_fifa_api_id</th>\n",
       "      <th>player_api_id</th>\n",
       "      <th>date</th>\n",
       "      <th>overall_rating</th>\n",
       "      <th>potential</th>\n",
       "      <th>preferred_foot</th>\n",
       "      <th>attacking_work_rate</th>\n",
       "      <th>defensive_work_rate</th>\n",
       "      <th>crossing</th>\n",
       "      <th>...</th>\n",
       "      <th>vision</th>\n",
       "      <th>penalties</th>\n",
       "      <th>marking</th>\n",
       "      <th>standing_tackle</th>\n",
       "      <th>sliding_tackle</th>\n",
       "      <th>gk_diving</th>\n",
       "      <th>gk_handling</th>\n",
       "      <th>gk_kicking</th>\n",
       "      <th>gk_positioning</th>\n",
       "      <th>gk_reflexes</th>\n",
       "    </tr>\n",
       "  </thead>\n",
       "  <tbody>\n",
       "    <tr>\n",
       "      <th>0</th>\n",
       "      <td>1</td>\n",
       "      <td>218353</td>\n",
       "      <td>505942</td>\n",
       "      <td>2016-02-18 00:00:00</td>\n",
       "      <td>67.0</td>\n",
       "      <td>71.0</td>\n",
       "      <td>right</td>\n",
       "      <td>medium</td>\n",
       "      <td>medium</td>\n",
       "      <td>49.0</td>\n",
       "      <td>...</td>\n",
       "      <td>54.0</td>\n",
       "      <td>48.0</td>\n",
       "      <td>65.0</td>\n",
       "      <td>69.0</td>\n",
       "      <td>69.0</td>\n",
       "      <td>6.0</td>\n",
       "      <td>11.0</td>\n",
       "      <td>10.0</td>\n",
       "      <td>8.0</td>\n",
       "      <td>8.0</td>\n",
       "    </tr>\n",
       "    <tr>\n",
       "      <th>1</th>\n",
       "      <td>2</td>\n",
       "      <td>218353</td>\n",
       "      <td>505942</td>\n",
       "      <td>2015-11-19 00:00:00</td>\n",
       "      <td>67.0</td>\n",
       "      <td>71.0</td>\n",
       "      <td>right</td>\n",
       "      <td>medium</td>\n",
       "      <td>medium</td>\n",
       "      <td>49.0</td>\n",
       "      <td>...</td>\n",
       "      <td>54.0</td>\n",
       "      <td>48.0</td>\n",
       "      <td>65.0</td>\n",
       "      <td>69.0</td>\n",
       "      <td>69.0</td>\n",
       "      <td>6.0</td>\n",
       "      <td>11.0</td>\n",
       "      <td>10.0</td>\n",
       "      <td>8.0</td>\n",
       "      <td>8.0</td>\n",
       "    </tr>\n",
       "    <tr>\n",
       "      <th>2</th>\n",
       "      <td>3</td>\n",
       "      <td>218353</td>\n",
       "      <td>505942</td>\n",
       "      <td>2015-09-21 00:00:00</td>\n",
       "      <td>62.0</td>\n",
       "      <td>66.0</td>\n",
       "      <td>right</td>\n",
       "      <td>medium</td>\n",
       "      <td>medium</td>\n",
       "      <td>49.0</td>\n",
       "      <td>...</td>\n",
       "      <td>54.0</td>\n",
       "      <td>48.0</td>\n",
       "      <td>65.0</td>\n",
       "      <td>66.0</td>\n",
       "      <td>69.0</td>\n",
       "      <td>6.0</td>\n",
       "      <td>11.0</td>\n",
       "      <td>10.0</td>\n",
       "      <td>8.0</td>\n",
       "      <td>8.0</td>\n",
       "    </tr>\n",
       "    <tr>\n",
       "      <th>3</th>\n",
       "      <td>4</td>\n",
       "      <td>218353</td>\n",
       "      <td>505942</td>\n",
       "      <td>2015-03-20 00:00:00</td>\n",
       "      <td>61.0</td>\n",
       "      <td>65.0</td>\n",
       "      <td>right</td>\n",
       "      <td>medium</td>\n",
       "      <td>medium</td>\n",
       "      <td>48.0</td>\n",
       "      <td>...</td>\n",
       "      <td>53.0</td>\n",
       "      <td>47.0</td>\n",
       "      <td>62.0</td>\n",
       "      <td>63.0</td>\n",
       "      <td>66.0</td>\n",
       "      <td>5.0</td>\n",
       "      <td>10.0</td>\n",
       "      <td>9.0</td>\n",
       "      <td>7.0</td>\n",
       "      <td>7.0</td>\n",
       "    </tr>\n",
       "    <tr>\n",
       "      <th>4</th>\n",
       "      <td>5</td>\n",
       "      <td>218353</td>\n",
       "      <td>505942</td>\n",
       "      <td>2007-02-22 00:00:00</td>\n",
       "      <td>61.0</td>\n",
       "      <td>65.0</td>\n",
       "      <td>right</td>\n",
       "      <td>medium</td>\n",
       "      <td>medium</td>\n",
       "      <td>48.0</td>\n",
       "      <td>...</td>\n",
       "      <td>53.0</td>\n",
       "      <td>47.0</td>\n",
       "      <td>62.0</td>\n",
       "      <td>63.0</td>\n",
       "      <td>66.0</td>\n",
       "      <td>5.0</td>\n",
       "      <td>10.0</td>\n",
       "      <td>9.0</td>\n",
       "      <td>7.0</td>\n",
       "      <td>7.0</td>\n",
       "    </tr>\n",
       "  </tbody>\n",
       "</table>\n",
       "<p>5 rows × 42 columns</p>\n",
       "</div>"
      ],
      "text/plain": [
       "   id  player_fifa_api_id  player_api_id                 date  overall_rating  \\\n",
       "0   1              218353         505942  2016-02-18 00:00:00            67.0   \n",
       "1   2              218353         505942  2015-11-19 00:00:00            67.0   \n",
       "2   3              218353         505942  2015-09-21 00:00:00            62.0   \n",
       "3   4              218353         505942  2015-03-20 00:00:00            61.0   \n",
       "4   5              218353         505942  2007-02-22 00:00:00            61.0   \n",
       "\n",
       "   potential preferred_foot attacking_work_rate defensive_work_rate  crossing  \\\n",
       "0       71.0          right              medium              medium      49.0   \n",
       "1       71.0          right              medium              medium      49.0   \n",
       "2       66.0          right              medium              medium      49.0   \n",
       "3       65.0          right              medium              medium      48.0   \n",
       "4       65.0          right              medium              medium      48.0   \n",
       "\n",
       "   ...  vision  penalties  marking  standing_tackle  sliding_tackle  \\\n",
       "0  ...    54.0       48.0     65.0             69.0            69.0   \n",
       "1  ...    54.0       48.0     65.0             69.0            69.0   \n",
       "2  ...    54.0       48.0     65.0             66.0            69.0   \n",
       "3  ...    53.0       47.0     62.0             63.0            66.0   \n",
       "4  ...    53.0       47.0     62.0             63.0            66.0   \n",
       "\n",
       "   gk_diving  gk_handling  gk_kicking  gk_positioning  gk_reflexes  \n",
       "0        6.0         11.0        10.0             8.0          8.0  \n",
       "1        6.0         11.0        10.0             8.0          8.0  \n",
       "2        6.0         11.0        10.0             8.0          8.0  \n",
       "3        5.0         10.0         9.0             7.0          7.0  \n",
       "4        5.0         10.0         9.0             7.0          7.0  \n",
       "\n",
       "[5 rows x 42 columns]"
      ]
     },
     "execution_count": 7,
     "metadata": {},
     "output_type": "execute_result"
    }
   ],
   "source": [
    "df.head()"
   ]
  },
  {
   "cell_type": "code",
   "execution_count": 8,
   "metadata": {},
   "outputs": [],
   "source": [
    "target = df.pop('overall_rating')"
   ]
  },
  {
   "cell_type": "code",
   "execution_count": 9,
   "metadata": {},
   "outputs": [
    {
     "data": {
      "text/plain": [
       "(183978, 41)"
      ]
     },
     "execution_count": 9,
     "metadata": {},
     "output_type": "execute_result"
    }
   ],
   "source": [
    "df.shape"
   ]
  },
  {
   "cell_type": "code",
   "execution_count": 10,
   "metadata": {},
   "outputs": [
    {
     "data": {
      "text/plain": [
       "0    67.0\n",
       "1    67.0\n",
       "2    62.0\n",
       "3    61.0\n",
       "4    61.0\n",
       "Name: overall_rating, dtype: float64"
      ]
     },
     "execution_count": 10,
     "metadata": {},
     "output_type": "execute_result"
    }
   ],
   "source": [
    "target.head()"
   ]
  },
  {
   "cell_type": "markdown",
   "metadata": {},
   "source": [
    "#### Imputing target function"
   ]
  },
  {
   "cell_type": "code",
   "execution_count": 11,
   "metadata": {},
   "outputs": [
    {
     "data": {
      "text/plain": [
       "836"
      ]
     },
     "execution_count": 11,
     "metadata": {},
     "output_type": "execute_result"
    }
   ],
   "source": [
    "target.isnull().values.sum()"
   ]
  },
  {
   "cell_type": "markdown",
   "metadata": {},
   "source": [
    "There are 836 missing values"
   ]
  },
  {
   "cell_type": "code",
   "execution_count": 12,
   "metadata": {},
   "outputs": [
    {
     "data": {
      "text/plain": [
       "count    183142.000000\n",
       "mean         68.600015\n",
       "std           7.041139\n",
       "min          33.000000\n",
       "25%          64.000000\n",
       "50%          69.000000\n",
       "75%          73.000000\n",
       "max          94.000000\n",
       "Name: overall_rating, dtype: float64"
      ]
     },
     "execution_count": 12,
     "metadata": {},
     "output_type": "execute_result"
    }
   ],
   "source": [
    "target.describe()"
   ]
  },
  {
   "cell_type": "code",
   "execution_count": 13,
   "metadata": {},
   "outputs": [
    {
     "data": {
      "application/javascript": [
       "/* Put everything inside the global mpl namespace */\n",
       "window.mpl = {};\n",
       "\n",
       "\n",
       "mpl.get_websocket_type = function() {\n",
       "    if (typeof(WebSocket) !== 'undefined') {\n",
       "        return WebSocket;\n",
       "    } else if (typeof(MozWebSocket) !== 'undefined') {\n",
       "        return MozWebSocket;\n",
       "    } else {\n",
       "        alert('Your browser does not have WebSocket support. ' +\n",
       "              'Please try Chrome, Safari or Firefox ≥ 6. ' +\n",
       "              'Firefox 4 and 5 are also supported but you ' +\n",
       "              'have to enable WebSockets in about:config.');\n",
       "    };\n",
       "}\n",
       "\n",
       "mpl.figure = function(figure_id, websocket, ondownload, parent_element) {\n",
       "    this.id = figure_id;\n",
       "\n",
       "    this.ws = websocket;\n",
       "\n",
       "    this.supports_binary = (this.ws.binaryType != undefined);\n",
       "\n",
       "    if (!this.supports_binary) {\n",
       "        var warnings = document.getElementById(\"mpl-warnings\");\n",
       "        if (warnings) {\n",
       "            warnings.style.display = 'block';\n",
       "            warnings.textContent = (\n",
       "                \"This browser does not support binary websocket messages. \" +\n",
       "                    \"Performance may be slow.\");\n",
       "        }\n",
       "    }\n",
       "\n",
       "    this.imageObj = new Image();\n",
       "\n",
       "    this.context = undefined;\n",
       "    this.message = undefined;\n",
       "    this.canvas = undefined;\n",
       "    this.rubberband_canvas = undefined;\n",
       "    this.rubberband_context = undefined;\n",
       "    this.format_dropdown = undefined;\n",
       "\n",
       "    this.image_mode = 'full';\n",
       "\n",
       "    this.root = $('<div/>');\n",
       "    this._root_extra_style(this.root)\n",
       "    this.root.attr('style', 'display: inline-block');\n",
       "\n",
       "    $(parent_element).append(this.root);\n",
       "\n",
       "    this._init_header(this);\n",
       "    this._init_canvas(this);\n",
       "    this._init_toolbar(this);\n",
       "\n",
       "    var fig = this;\n",
       "\n",
       "    this.waiting = false;\n",
       "\n",
       "    this.ws.onopen =  function () {\n",
       "            fig.send_message(\"supports_binary\", {value: fig.supports_binary});\n",
       "            fig.send_message(\"send_image_mode\", {});\n",
       "            if (mpl.ratio != 1) {\n",
       "                fig.send_message(\"set_dpi_ratio\", {'dpi_ratio': mpl.ratio});\n",
       "            }\n",
       "            fig.send_message(\"refresh\", {});\n",
       "        }\n",
       "\n",
       "    this.imageObj.onload = function() {\n",
       "            if (fig.image_mode == 'full') {\n",
       "                // Full images could contain transparency (where diff images\n",
       "                // almost always do), so we need to clear the canvas so that\n",
       "                // there is no ghosting.\n",
       "                fig.context.clearRect(0, 0, fig.canvas.width, fig.canvas.height);\n",
       "            }\n",
       "            fig.context.drawImage(fig.imageObj, 0, 0);\n",
       "        };\n",
       "\n",
       "    this.imageObj.onunload = function() {\n",
       "        fig.ws.close();\n",
       "    }\n",
       "\n",
       "    this.ws.onmessage = this._make_on_message_function(this);\n",
       "\n",
       "    this.ondownload = ondownload;\n",
       "}\n",
       "\n",
       "mpl.figure.prototype._init_header = function() {\n",
       "    var titlebar = $(\n",
       "        '<div class=\"ui-dialog-titlebar ui-widget-header ui-corner-all ' +\n",
       "        'ui-helper-clearfix\"/>');\n",
       "    var titletext = $(\n",
       "        '<div class=\"ui-dialog-title\" style=\"width: 100%; ' +\n",
       "        'text-align: center; padding: 3px;\"/>');\n",
       "    titlebar.append(titletext)\n",
       "    this.root.append(titlebar);\n",
       "    this.header = titletext[0];\n",
       "}\n",
       "\n",
       "\n",
       "\n",
       "mpl.figure.prototype._canvas_extra_style = function(canvas_div) {\n",
       "\n",
       "}\n",
       "\n",
       "\n",
       "mpl.figure.prototype._root_extra_style = function(canvas_div) {\n",
       "\n",
       "}\n",
       "\n",
       "mpl.figure.prototype._init_canvas = function() {\n",
       "    var fig = this;\n",
       "\n",
       "    var canvas_div = $('<div/>');\n",
       "\n",
       "    canvas_div.attr('style', 'position: relative; clear: both; outline: 0');\n",
       "\n",
       "    function canvas_keyboard_event(event) {\n",
       "        return fig.key_event(event, event['data']);\n",
       "    }\n",
       "\n",
       "    canvas_div.keydown('key_press', canvas_keyboard_event);\n",
       "    canvas_div.keyup('key_release', canvas_keyboard_event);\n",
       "    this.canvas_div = canvas_div\n",
       "    this._canvas_extra_style(canvas_div)\n",
       "    this.root.append(canvas_div);\n",
       "\n",
       "    var canvas = $('<canvas/>');\n",
       "    canvas.addClass('mpl-canvas');\n",
       "    canvas.attr('style', \"left: 0; top: 0; z-index: 0; outline: 0\")\n",
       "\n",
       "    this.canvas = canvas[0];\n",
       "    this.context = canvas[0].getContext(\"2d\");\n",
       "\n",
       "    var backingStore = this.context.backingStorePixelRatio ||\n",
       "\tthis.context.webkitBackingStorePixelRatio ||\n",
       "\tthis.context.mozBackingStorePixelRatio ||\n",
       "\tthis.context.msBackingStorePixelRatio ||\n",
       "\tthis.context.oBackingStorePixelRatio ||\n",
       "\tthis.context.backingStorePixelRatio || 1;\n",
       "\n",
       "    mpl.ratio = (window.devicePixelRatio || 1) / backingStore;\n",
       "\n",
       "    var rubberband = $('<canvas/>');\n",
       "    rubberband.attr('style', \"position: absolute; left: 0; top: 0; z-index: 1;\")\n",
       "\n",
       "    var pass_mouse_events = true;\n",
       "\n",
       "    canvas_div.resizable({\n",
       "        start: function(event, ui) {\n",
       "            pass_mouse_events = false;\n",
       "        },\n",
       "        resize: function(event, ui) {\n",
       "            fig.request_resize(ui.size.width, ui.size.height);\n",
       "        },\n",
       "        stop: function(event, ui) {\n",
       "            pass_mouse_events = true;\n",
       "            fig.request_resize(ui.size.width, ui.size.height);\n",
       "        },\n",
       "    });\n",
       "\n",
       "    function mouse_event_fn(event) {\n",
       "        if (pass_mouse_events)\n",
       "            return fig.mouse_event(event, event['data']);\n",
       "    }\n",
       "\n",
       "    rubberband.mousedown('button_press', mouse_event_fn);\n",
       "    rubberband.mouseup('button_release', mouse_event_fn);\n",
       "    // Throttle sequential mouse events to 1 every 20ms.\n",
       "    rubberband.mousemove('motion_notify', mouse_event_fn);\n",
       "\n",
       "    rubberband.mouseenter('figure_enter', mouse_event_fn);\n",
       "    rubberband.mouseleave('figure_leave', mouse_event_fn);\n",
       "\n",
       "    canvas_div.on(\"wheel\", function (event) {\n",
       "        event = event.originalEvent;\n",
       "        event['data'] = 'scroll'\n",
       "        if (event.deltaY < 0) {\n",
       "            event.step = 1;\n",
       "        } else {\n",
       "            event.step = -1;\n",
       "        }\n",
       "        mouse_event_fn(event);\n",
       "    });\n",
       "\n",
       "    canvas_div.append(canvas);\n",
       "    canvas_div.append(rubberband);\n",
       "\n",
       "    this.rubberband = rubberband;\n",
       "    this.rubberband_canvas = rubberband[0];\n",
       "    this.rubberband_context = rubberband[0].getContext(\"2d\");\n",
       "    this.rubberband_context.strokeStyle = \"#000000\";\n",
       "\n",
       "    this._resize_canvas = function(width, height) {\n",
       "        // Keep the size of the canvas, canvas container, and rubber band\n",
       "        // canvas in synch.\n",
       "        canvas_div.css('width', width)\n",
       "        canvas_div.css('height', height)\n",
       "\n",
       "        canvas.attr('width', width * mpl.ratio);\n",
       "        canvas.attr('height', height * mpl.ratio);\n",
       "        canvas.attr('style', 'width: ' + width + 'px; height: ' + height + 'px;');\n",
       "\n",
       "        rubberband.attr('width', width);\n",
       "        rubberband.attr('height', height);\n",
       "    }\n",
       "\n",
       "    // Set the figure to an initial 600x600px, this will subsequently be updated\n",
       "    // upon first draw.\n",
       "    this._resize_canvas(600, 600);\n",
       "\n",
       "    // Disable right mouse context menu.\n",
       "    $(this.rubberband_canvas).bind(\"contextmenu\",function(e){\n",
       "        return false;\n",
       "    });\n",
       "\n",
       "    function set_focus () {\n",
       "        canvas.focus();\n",
       "        canvas_div.focus();\n",
       "    }\n",
       "\n",
       "    window.setTimeout(set_focus, 100);\n",
       "}\n",
       "\n",
       "mpl.figure.prototype._init_toolbar = function() {\n",
       "    var fig = this;\n",
       "\n",
       "    var nav_element = $('<div/>');\n",
       "    nav_element.attr('style', 'width: 100%');\n",
       "    this.root.append(nav_element);\n",
       "\n",
       "    // Define a callback function for later on.\n",
       "    function toolbar_event(event) {\n",
       "        return fig.toolbar_button_onclick(event['data']);\n",
       "    }\n",
       "    function toolbar_mouse_event(event) {\n",
       "        return fig.toolbar_button_onmouseover(event['data']);\n",
       "    }\n",
       "\n",
       "    for(var toolbar_ind in mpl.toolbar_items) {\n",
       "        var name = mpl.toolbar_items[toolbar_ind][0];\n",
       "        var tooltip = mpl.toolbar_items[toolbar_ind][1];\n",
       "        var image = mpl.toolbar_items[toolbar_ind][2];\n",
       "        var method_name = mpl.toolbar_items[toolbar_ind][3];\n",
       "\n",
       "        if (!name) {\n",
       "            // put a spacer in here.\n",
       "            continue;\n",
       "        }\n",
       "        var button = $('<button/>');\n",
       "        button.addClass('ui-button ui-widget ui-state-default ui-corner-all ' +\n",
       "                        'ui-button-icon-only');\n",
       "        button.attr('role', 'button');\n",
       "        button.attr('aria-disabled', 'false');\n",
       "        button.click(method_name, toolbar_event);\n",
       "        button.mouseover(tooltip, toolbar_mouse_event);\n",
       "\n",
       "        var icon_img = $('<span/>');\n",
       "        icon_img.addClass('ui-button-icon-primary ui-icon');\n",
       "        icon_img.addClass(image);\n",
       "        icon_img.addClass('ui-corner-all');\n",
       "\n",
       "        var tooltip_span = $('<span/>');\n",
       "        tooltip_span.addClass('ui-button-text');\n",
       "        tooltip_span.html(tooltip);\n",
       "\n",
       "        button.append(icon_img);\n",
       "        button.append(tooltip_span);\n",
       "\n",
       "        nav_element.append(button);\n",
       "    }\n",
       "\n",
       "    var fmt_picker_span = $('<span/>');\n",
       "\n",
       "    var fmt_picker = $('<select/>');\n",
       "    fmt_picker.addClass('mpl-toolbar-option ui-widget ui-widget-content');\n",
       "    fmt_picker_span.append(fmt_picker);\n",
       "    nav_element.append(fmt_picker_span);\n",
       "    this.format_dropdown = fmt_picker[0];\n",
       "\n",
       "    for (var ind in mpl.extensions) {\n",
       "        var fmt = mpl.extensions[ind];\n",
       "        var option = $(\n",
       "            '<option/>', {selected: fmt === mpl.default_extension}).html(fmt);\n",
       "        fmt_picker.append(option);\n",
       "    }\n",
       "\n",
       "    // Add hover states to the ui-buttons\n",
       "    $( \".ui-button\" ).hover(\n",
       "        function() { $(this).addClass(\"ui-state-hover\");},\n",
       "        function() { $(this).removeClass(\"ui-state-hover\");}\n",
       "    );\n",
       "\n",
       "    var status_bar = $('<span class=\"mpl-message\"/>');\n",
       "    nav_element.append(status_bar);\n",
       "    this.message = status_bar[0];\n",
       "}\n",
       "\n",
       "mpl.figure.prototype.request_resize = function(x_pixels, y_pixels) {\n",
       "    // Request matplotlib to resize the figure. Matplotlib will then trigger a resize in the client,\n",
       "    // which will in turn request a refresh of the image.\n",
       "    this.send_message('resize', {'width': x_pixels, 'height': y_pixels});\n",
       "}\n",
       "\n",
       "mpl.figure.prototype.send_message = function(type, properties) {\n",
       "    properties['type'] = type;\n",
       "    properties['figure_id'] = this.id;\n",
       "    this.ws.send(JSON.stringify(properties));\n",
       "}\n",
       "\n",
       "mpl.figure.prototype.send_draw_message = function() {\n",
       "    if (!this.waiting) {\n",
       "        this.waiting = true;\n",
       "        this.ws.send(JSON.stringify({type: \"draw\", figure_id: this.id}));\n",
       "    }\n",
       "}\n",
       "\n",
       "\n",
       "mpl.figure.prototype.handle_save = function(fig, msg) {\n",
       "    var format_dropdown = fig.format_dropdown;\n",
       "    var format = format_dropdown.options[format_dropdown.selectedIndex].value;\n",
       "    fig.ondownload(fig, format);\n",
       "}\n",
       "\n",
       "\n",
       "mpl.figure.prototype.handle_resize = function(fig, msg) {\n",
       "    var size = msg['size'];\n",
       "    if (size[0] != fig.canvas.width || size[1] != fig.canvas.height) {\n",
       "        fig._resize_canvas(size[0], size[1]);\n",
       "        fig.send_message(\"refresh\", {});\n",
       "    };\n",
       "}\n",
       "\n",
       "mpl.figure.prototype.handle_rubberband = function(fig, msg) {\n",
       "    var x0 = msg['x0'] / mpl.ratio;\n",
       "    var y0 = (fig.canvas.height - msg['y0']) / mpl.ratio;\n",
       "    var x1 = msg['x1'] / mpl.ratio;\n",
       "    var y1 = (fig.canvas.height - msg['y1']) / mpl.ratio;\n",
       "    x0 = Math.floor(x0) + 0.5;\n",
       "    y0 = Math.floor(y0) + 0.5;\n",
       "    x1 = Math.floor(x1) + 0.5;\n",
       "    y1 = Math.floor(y1) + 0.5;\n",
       "    var min_x = Math.min(x0, x1);\n",
       "    var min_y = Math.min(y0, y1);\n",
       "    var width = Math.abs(x1 - x0);\n",
       "    var height = Math.abs(y1 - y0);\n",
       "\n",
       "    fig.rubberband_context.clearRect(\n",
       "        0, 0, fig.canvas.width / mpl.ratio, fig.canvas.height / mpl.ratio);\n",
       "\n",
       "    fig.rubberband_context.strokeRect(min_x, min_y, width, height);\n",
       "}\n",
       "\n",
       "mpl.figure.prototype.handle_figure_label = function(fig, msg) {\n",
       "    // Updates the figure title.\n",
       "    fig.header.textContent = msg['label'];\n",
       "}\n",
       "\n",
       "mpl.figure.prototype.handle_cursor = function(fig, msg) {\n",
       "    var cursor = msg['cursor'];\n",
       "    switch(cursor)\n",
       "    {\n",
       "    case 0:\n",
       "        cursor = 'pointer';\n",
       "        break;\n",
       "    case 1:\n",
       "        cursor = 'default';\n",
       "        break;\n",
       "    case 2:\n",
       "        cursor = 'crosshair';\n",
       "        break;\n",
       "    case 3:\n",
       "        cursor = 'move';\n",
       "        break;\n",
       "    }\n",
       "    fig.rubberband_canvas.style.cursor = cursor;\n",
       "}\n",
       "\n",
       "mpl.figure.prototype.handle_message = function(fig, msg) {\n",
       "    fig.message.textContent = msg['message'];\n",
       "}\n",
       "\n",
       "mpl.figure.prototype.handle_draw = function(fig, msg) {\n",
       "    // Request the server to send over a new figure.\n",
       "    fig.send_draw_message();\n",
       "}\n",
       "\n",
       "mpl.figure.prototype.handle_image_mode = function(fig, msg) {\n",
       "    fig.image_mode = msg['mode'];\n",
       "}\n",
       "\n",
       "mpl.figure.prototype.updated_canvas_event = function() {\n",
       "    // Called whenever the canvas gets updated.\n",
       "    this.send_message(\"ack\", {});\n",
       "}\n",
       "\n",
       "// A function to construct a web socket function for onmessage handling.\n",
       "// Called in the figure constructor.\n",
       "mpl.figure.prototype._make_on_message_function = function(fig) {\n",
       "    return function socket_on_message(evt) {\n",
       "        if (evt.data instanceof Blob) {\n",
       "            /* FIXME: We get \"Resource interpreted as Image but\n",
       "             * transferred with MIME type text/plain:\" errors on\n",
       "             * Chrome.  But how to set the MIME type?  It doesn't seem\n",
       "             * to be part of the websocket stream */\n",
       "            evt.data.type = \"image/png\";\n",
       "\n",
       "            /* Free the memory for the previous frames */\n",
       "            if (fig.imageObj.src) {\n",
       "                (window.URL || window.webkitURL).revokeObjectURL(\n",
       "                    fig.imageObj.src);\n",
       "            }\n",
       "\n",
       "            fig.imageObj.src = (window.URL || window.webkitURL).createObjectURL(\n",
       "                evt.data);\n",
       "            fig.updated_canvas_event();\n",
       "            fig.waiting = false;\n",
       "            return;\n",
       "        }\n",
       "        else if (typeof evt.data === 'string' && evt.data.slice(0, 21) == \"data:image/png;base64\") {\n",
       "            fig.imageObj.src = evt.data;\n",
       "            fig.updated_canvas_event();\n",
       "            fig.waiting = false;\n",
       "            return;\n",
       "        }\n",
       "\n",
       "        var msg = JSON.parse(evt.data);\n",
       "        var msg_type = msg['type'];\n",
       "\n",
       "        // Call the  \"handle_{type}\" callback, which takes\n",
       "        // the figure and JSON message as its only arguments.\n",
       "        try {\n",
       "            var callback = fig[\"handle_\" + msg_type];\n",
       "        } catch (e) {\n",
       "            console.log(\"No handler for the '\" + msg_type + \"' message type: \", msg);\n",
       "            return;\n",
       "        }\n",
       "\n",
       "        if (callback) {\n",
       "            try {\n",
       "                // console.log(\"Handling '\" + msg_type + \"' message: \", msg);\n",
       "                callback(fig, msg);\n",
       "            } catch (e) {\n",
       "                console.log(\"Exception inside the 'handler_\" + msg_type + \"' callback:\", e, e.stack, msg);\n",
       "            }\n",
       "        }\n",
       "    };\n",
       "}\n",
       "\n",
       "// from http://stackoverflow.com/questions/1114465/getting-mouse-location-in-canvas\n",
       "mpl.findpos = function(e) {\n",
       "    //this section is from http://www.quirksmode.org/js/events_properties.html\n",
       "    var targ;\n",
       "    if (!e)\n",
       "        e = window.event;\n",
       "    if (e.target)\n",
       "        targ = e.target;\n",
       "    else if (e.srcElement)\n",
       "        targ = e.srcElement;\n",
       "    if (targ.nodeType == 3) // defeat Safari bug\n",
       "        targ = targ.parentNode;\n",
       "\n",
       "    // jQuery normalizes the pageX and pageY\n",
       "    // pageX,Y are the mouse positions relative to the document\n",
       "    // offset() returns the position of the element relative to the document\n",
       "    var x = e.pageX - $(targ).offset().left;\n",
       "    var y = e.pageY - $(targ).offset().top;\n",
       "\n",
       "    return {\"x\": x, \"y\": y};\n",
       "};\n",
       "\n",
       "/*\n",
       " * return a copy of an object with only non-object keys\n",
       " * we need this to avoid circular references\n",
       " * http://stackoverflow.com/a/24161582/3208463\n",
       " */\n",
       "function simpleKeys (original) {\n",
       "  return Object.keys(original).reduce(function (obj, key) {\n",
       "    if (typeof original[key] !== 'object')\n",
       "        obj[key] = original[key]\n",
       "    return obj;\n",
       "  }, {});\n",
       "}\n",
       "\n",
       "mpl.figure.prototype.mouse_event = function(event, name) {\n",
       "    var canvas_pos = mpl.findpos(event)\n",
       "\n",
       "    if (name === 'button_press')\n",
       "    {\n",
       "        this.canvas.focus();\n",
       "        this.canvas_div.focus();\n",
       "    }\n",
       "\n",
       "    var x = canvas_pos.x * mpl.ratio;\n",
       "    var y = canvas_pos.y * mpl.ratio;\n",
       "\n",
       "    this.send_message(name, {x: x, y: y, button: event.button,\n",
       "                             step: event.step,\n",
       "                             guiEvent: simpleKeys(event)});\n",
       "\n",
       "    /* This prevents the web browser from automatically changing to\n",
       "     * the text insertion cursor when the button is pressed.  We want\n",
       "     * to control all of the cursor setting manually through the\n",
       "     * 'cursor' event from matplotlib */\n",
       "    event.preventDefault();\n",
       "    return false;\n",
       "}\n",
       "\n",
       "mpl.figure.prototype._key_event_extra = function(event, name) {\n",
       "    // Handle any extra behaviour associated with a key event\n",
       "}\n",
       "\n",
       "mpl.figure.prototype.key_event = function(event, name) {\n",
       "\n",
       "    // Prevent repeat events\n",
       "    if (name == 'key_press')\n",
       "    {\n",
       "        if (event.which === this._key)\n",
       "            return;\n",
       "        else\n",
       "            this._key = event.which;\n",
       "    }\n",
       "    if (name == 'key_release')\n",
       "        this._key = null;\n",
       "\n",
       "    var value = '';\n",
       "    if (event.ctrlKey && event.which != 17)\n",
       "        value += \"ctrl+\";\n",
       "    if (event.altKey && event.which != 18)\n",
       "        value += \"alt+\";\n",
       "    if (event.shiftKey && event.which != 16)\n",
       "        value += \"shift+\";\n",
       "\n",
       "    value += 'k';\n",
       "    value += event.which.toString();\n",
       "\n",
       "    this._key_event_extra(event, name);\n",
       "\n",
       "    this.send_message(name, {key: value,\n",
       "                             guiEvent: simpleKeys(event)});\n",
       "    return false;\n",
       "}\n",
       "\n",
       "mpl.figure.prototype.toolbar_button_onclick = function(name) {\n",
       "    if (name == 'download') {\n",
       "        this.handle_save(this, null);\n",
       "    } else {\n",
       "        this.send_message(\"toolbar_button\", {name: name});\n",
       "    }\n",
       "};\n",
       "\n",
       "mpl.figure.prototype.toolbar_button_onmouseover = function(tooltip) {\n",
       "    this.message.textContent = tooltip;\n",
       "};\n",
       "mpl.toolbar_items = [[\"Home\", \"Reset original view\", \"fa fa-home icon-home\", \"home\"], [\"Back\", \"Back to previous view\", \"fa fa-arrow-left icon-arrow-left\", \"back\"], [\"Forward\", \"Forward to next view\", \"fa fa-arrow-right icon-arrow-right\", \"forward\"], [\"\", \"\", \"\", \"\"], [\"Pan\", \"Pan axes with left mouse, zoom with right\", \"fa fa-arrows icon-move\", \"pan\"], [\"Zoom\", \"Zoom to rectangle\", \"fa fa-square-o icon-check-empty\", \"zoom\"], [\"\", \"\", \"\", \"\"], [\"Download\", \"Download plot\", \"fa fa-floppy-o icon-save\", \"download\"]];\n",
       "\n",
       "mpl.extensions = [\"eps\", \"jpeg\", \"pdf\", \"png\", \"ps\", \"raw\", \"svg\", \"tif\"];\n",
       "\n",
       "mpl.default_extension = \"png\";var comm_websocket_adapter = function(comm) {\n",
       "    // Create a \"websocket\"-like object which calls the given IPython comm\n",
       "    // object with the appropriate methods. Currently this is a non binary\n",
       "    // socket, so there is still some room for performance tuning.\n",
       "    var ws = {};\n",
       "\n",
       "    ws.close = function() {\n",
       "        comm.close()\n",
       "    };\n",
       "    ws.send = function(m) {\n",
       "        //console.log('sending', m);\n",
       "        comm.send(m);\n",
       "    };\n",
       "    // Register the callback with on_msg.\n",
       "    comm.on_msg(function(msg) {\n",
       "        //console.log('receiving', msg['content']['data'], msg);\n",
       "        // Pass the mpl event to the overridden (by mpl) onmessage function.\n",
       "        ws.onmessage(msg['content']['data'])\n",
       "    });\n",
       "    return ws;\n",
       "}\n",
       "\n",
       "mpl.mpl_figure_comm = function(comm, msg) {\n",
       "    // This is the function which gets called when the mpl process\n",
       "    // starts-up an IPython Comm through the \"matplotlib\" channel.\n",
       "\n",
       "    var id = msg.content.data.id;\n",
       "    // Get hold of the div created by the display call when the Comm\n",
       "    // socket was opened in Python.\n",
       "    var element = $(\"#\" + id);\n",
       "    var ws_proxy = comm_websocket_adapter(comm)\n",
       "\n",
       "    function ondownload(figure, format) {\n",
       "        window.open(figure.imageObj.src);\n",
       "    }\n",
       "\n",
       "    var fig = new mpl.figure(id, ws_proxy,\n",
       "                           ondownload,\n",
       "                           element.get(0));\n",
       "\n",
       "    // Call onopen now - mpl needs it, as it is assuming we've passed it a real\n",
       "    // web socket which is closed, not our websocket->open comm proxy.\n",
       "    ws_proxy.onopen();\n",
       "\n",
       "    fig.parent_element = element.get(0);\n",
       "    fig.cell_info = mpl.find_output_cell(\"<div id='\" + id + \"'></div>\");\n",
       "    if (!fig.cell_info) {\n",
       "        console.error(\"Failed to find cell for figure\", id, fig);\n",
       "        return;\n",
       "    }\n",
       "\n",
       "    var output_index = fig.cell_info[2]\n",
       "    var cell = fig.cell_info[0];\n",
       "\n",
       "};\n",
       "\n",
       "mpl.figure.prototype.handle_close = function(fig, msg) {\n",
       "    var width = fig.canvas.width/mpl.ratio\n",
       "    fig.root.unbind('remove')\n",
       "\n",
       "    // Update the output cell to use the data from the current canvas.\n",
       "    fig.push_to_output();\n",
       "    var dataURL = fig.canvas.toDataURL();\n",
       "    // Re-enable the keyboard manager in IPython - without this line, in FF,\n",
       "    // the notebook keyboard shortcuts fail.\n",
       "    IPython.keyboard_manager.enable()\n",
       "    $(fig.parent_element).html('<img src=\"' + dataURL + '\" width=\"' + width + '\">');\n",
       "    fig.close_ws(fig, msg);\n",
       "}\n",
       "\n",
       "mpl.figure.prototype.close_ws = function(fig, msg){\n",
       "    fig.send_message('closing', msg);\n",
       "    // fig.ws.close()\n",
       "}\n",
       "\n",
       "mpl.figure.prototype.push_to_output = function(remove_interactive) {\n",
       "    // Turn the data on the canvas into data in the output cell.\n",
       "    var width = this.canvas.width/mpl.ratio\n",
       "    var dataURL = this.canvas.toDataURL();\n",
       "    this.cell_info[1]['text/html'] = '<img src=\"' + dataURL + '\" width=\"' + width + '\">';\n",
       "}\n",
       "\n",
       "mpl.figure.prototype.updated_canvas_event = function() {\n",
       "    // Tell IPython that the notebook contents must change.\n",
       "    IPython.notebook.set_dirty(true);\n",
       "    this.send_message(\"ack\", {});\n",
       "    var fig = this;\n",
       "    // Wait a second, then push the new image to the DOM so\n",
       "    // that it is saved nicely (might be nice to debounce this).\n",
       "    setTimeout(function () { fig.push_to_output() }, 1000);\n",
       "}\n",
       "\n",
       "mpl.figure.prototype._init_toolbar = function() {\n",
       "    var fig = this;\n",
       "\n",
       "    var nav_element = $('<div/>');\n",
       "    nav_element.attr('style', 'width: 100%');\n",
       "    this.root.append(nav_element);\n",
       "\n",
       "    // Define a callback function for later on.\n",
       "    function toolbar_event(event) {\n",
       "        return fig.toolbar_button_onclick(event['data']);\n",
       "    }\n",
       "    function toolbar_mouse_event(event) {\n",
       "        return fig.toolbar_button_onmouseover(event['data']);\n",
       "    }\n",
       "\n",
       "    for(var toolbar_ind in mpl.toolbar_items){\n",
       "        var name = mpl.toolbar_items[toolbar_ind][0];\n",
       "        var tooltip = mpl.toolbar_items[toolbar_ind][1];\n",
       "        var image = mpl.toolbar_items[toolbar_ind][2];\n",
       "        var method_name = mpl.toolbar_items[toolbar_ind][3];\n",
       "\n",
       "        if (!name) { continue; };\n",
       "\n",
       "        var button = $('<button class=\"btn btn-default\" href=\"#\" title=\"' + name + '\"><i class=\"fa ' + image + ' fa-lg\"></i></button>');\n",
       "        button.click(method_name, toolbar_event);\n",
       "        button.mouseover(tooltip, toolbar_mouse_event);\n",
       "        nav_element.append(button);\n",
       "    }\n",
       "\n",
       "    // Add the status bar.\n",
       "    var status_bar = $('<span class=\"mpl-message\" style=\"text-align:right; float: right;\"/>');\n",
       "    nav_element.append(status_bar);\n",
       "    this.message = status_bar[0];\n",
       "\n",
       "    // Add the close button to the window.\n",
       "    var buttongrp = $('<div class=\"btn-group inline pull-right\"></div>');\n",
       "    var button = $('<button class=\"btn btn-mini btn-primary\" href=\"#\" title=\"Stop Interaction\"><i class=\"fa fa-power-off icon-remove icon-large\"></i></button>');\n",
       "    button.click(function (evt) { fig.handle_close(fig, {}); } );\n",
       "    button.mouseover('Stop Interaction', toolbar_mouse_event);\n",
       "    buttongrp.append(button);\n",
       "    var titlebar = this.root.find($('.ui-dialog-titlebar'));\n",
       "    titlebar.prepend(buttongrp);\n",
       "}\n",
       "\n",
       "mpl.figure.prototype._root_extra_style = function(el){\n",
       "    var fig = this\n",
       "    el.on(\"remove\", function(){\n",
       "\tfig.close_ws(fig, {});\n",
       "    });\n",
       "}\n",
       "\n",
       "mpl.figure.prototype._canvas_extra_style = function(el){\n",
       "    // this is important to make the div 'focusable\n",
       "    el.attr('tabindex', 0)\n",
       "    // reach out to IPython and tell the keyboard manager to turn it's self\n",
       "    // off when our div gets focus\n",
       "\n",
       "    // location in version 3\n",
       "    if (IPython.notebook.keyboard_manager) {\n",
       "        IPython.notebook.keyboard_manager.register_events(el);\n",
       "    }\n",
       "    else {\n",
       "        // location in version 2\n",
       "        IPython.keyboard_manager.register_events(el);\n",
       "    }\n",
       "\n",
       "}\n",
       "\n",
       "mpl.figure.prototype._key_event_extra = function(event, name) {\n",
       "    var manager = IPython.notebook.keyboard_manager;\n",
       "    if (!manager)\n",
       "        manager = IPython.keyboard_manager;\n",
       "\n",
       "    // Check for shift+enter\n",
       "    if (event.shiftKey && event.which == 13) {\n",
       "        this.canvas_div.blur();\n",
       "        event.shiftKey = false;\n",
       "        // Send a \"J\" for go to next cell\n",
       "        event.which = 74;\n",
       "        event.keyCode = 74;\n",
       "        manager.command_mode();\n",
       "        manager.handle_keydown(event);\n",
       "    }\n",
       "}\n",
       "\n",
       "mpl.figure.prototype.handle_save = function(fig, msg) {\n",
       "    fig.ondownload(fig, null);\n",
       "}\n",
       "\n",
       "\n",
       "mpl.find_output_cell = function(html_output) {\n",
       "    // Return the cell and output element which can be found *uniquely* in the notebook.\n",
       "    // Note - this is a bit hacky, but it is done because the \"notebook_saving.Notebook\"\n",
       "    // IPython event is triggered only after the cells have been serialised, which for\n",
       "    // our purposes (turning an active figure into a static one), is too late.\n",
       "    var cells = IPython.notebook.get_cells();\n",
       "    var ncells = cells.length;\n",
       "    for (var i=0; i<ncells; i++) {\n",
       "        var cell = cells[i];\n",
       "        if (cell.cell_type === 'code'){\n",
       "            for (var j=0; j<cell.output_area.outputs.length; j++) {\n",
       "                var data = cell.output_area.outputs[j];\n",
       "                if (data.data) {\n",
       "                    // IPython >= 3 moved mimebundle to data attribute of output\n",
       "                    data = data.data;\n",
       "                }\n",
       "                if (data['text/html'] == html_output) {\n",
       "                    return [cell, data, j];\n",
       "                }\n",
       "            }\n",
       "        }\n",
       "    }\n",
       "}\n",
       "\n",
       "// Register the function which deals with the matplotlib target/channel.\n",
       "// The kernel may be null if the page has been refreshed.\n",
       "if (IPython.notebook.kernel != null) {\n",
       "    IPython.notebook.kernel.comm_manager.register_target('matplotlib', mpl.mpl_figure_comm);\n",
       "}\n"
      ],
      "text/plain": [
       "<IPython.core.display.Javascript object>"
      ]
     },
     "metadata": {},
     "output_type": "display_data"
    },
    {
     "data": {
      "text/html": [
       "<img src=\"data:image/png;base64,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\" width=\"640\">"
      ],
      "text/plain": [
       "<IPython.core.display.HTML object>"
      ]
     },
     "metadata": {},
     "output_type": "display_data"
    },
    {
     "data": {
      "text/plain": [
       "(array([7.0000e+00, 6.0000e+00, 2.0000e+01, 6.5000e+01, 9.4000e+01,\n",
       "        1.4200e+02, 2.9400e+02, 5.2600e+02, 1.2510e+03, 1.8450e+03,\n",
       "        2.5780e+03, 4.0870e+03, 6.1890e+03, 9.6500e+03, 1.3745e+04,\n",
       "        1.8366e+04, 2.0310e+04, 2.0773e+04, 1.9382e+04, 1.8784e+04,\n",
       "        1.5915e+04, 1.1254e+04, 7.5250e+03, 4.9470e+03, 2.8290e+03,\n",
       "        1.4590e+03, 7.4800e+02, 2.2800e+02, 8.4000e+01, 3.9000e+01]),\n",
       " array([33.        , 35.03333333, 37.06666667, 39.1       , 41.13333333,\n",
       "        43.16666667, 45.2       , 47.23333333, 49.26666667, 51.3       ,\n",
       "        53.33333333, 55.36666667, 57.4       , 59.43333333, 61.46666667,\n",
       "        63.5       , 65.53333333, 67.56666667, 69.6       , 71.63333333,\n",
       "        73.66666667, 75.7       , 77.73333333, 79.76666667, 81.8       ,\n",
       "        83.83333333, 85.86666667, 87.9       , 89.93333333, 91.96666667,\n",
       "        94.        ]),\n",
       " <a list of 30 Patch objects>)"
      ]
     },
     "execution_count": 13,
     "metadata": {},
     "output_type": "execute_result"
    }
   ],
   "source": [
    "plt.hist(target, 30, range=(33, 94))"
   ]
  },
  {
   "cell_type": "markdown",
   "metadata": {},
   "source": [
    "It is almost a normal distribution so we can impute mean value for missing values"
   ]
  },
  {
   "cell_type": "code",
   "execution_count": 14,
   "metadata": {},
   "outputs": [],
   "source": [
    "y = target.fillna(target.mean())"
   ]
  },
  {
   "cell_type": "code",
   "execution_count": 15,
   "metadata": {},
   "outputs": [
    {
     "data": {
      "text/plain": [
       "False"
      ]
     },
     "execution_count": 15,
     "metadata": {},
     "output_type": "execute_result"
    }
   ],
   "source": [
    "y.isnull().values.any()"
   ]
  },
  {
   "cell_type": "markdown",
   "metadata": {},
   "source": [
    "#### Data Exploration"
   ]
  },
  {
   "cell_type": "code",
   "execution_count": 16,
   "metadata": {},
   "outputs": [
    {
     "data": {
      "text/plain": [
       "Index(['id', 'player_fifa_api_id', 'player_api_id', 'date', 'potential',\n",
       "       'preferred_foot', 'attacking_work_rate', 'defensive_work_rate',\n",
       "       'crossing', 'finishing', 'heading_accuracy', 'short_passing', 'volleys',\n",
       "       'dribbling', 'curve', 'free_kick_accuracy', 'long_passing',\n",
       "       'ball_control', 'acceleration', 'sprint_speed', 'agility', 'reactions',\n",
       "       'balance', 'shot_power', 'jumping', 'stamina', 'strength', 'long_shots',\n",
       "       'aggression', 'interceptions', 'positioning', 'vision', 'penalties',\n",
       "       'marking', 'standing_tackle', 'sliding_tackle', 'gk_diving',\n",
       "       'gk_handling', 'gk_kicking', 'gk_positioning', 'gk_reflexes'],\n",
       "      dtype='object')"
      ]
     },
     "execution_count": 16,
     "metadata": {},
     "output_type": "execute_result"
    }
   ],
   "source": [
    "df.columns"
   ]
  },
  {
   "cell_type": "code",
   "execution_count": 17,
   "metadata": {},
   "outputs": [
    {
     "name": "stdout",
     "output_type": "stream",
     "text": [
      "id--> 183978..int64\n",
      "player_fifa_api_id--> 11062..int64\n",
      "player_api_id--> 11060..int64\n",
      "date--> 197..object\n",
      "potential--> 57..float64\n",
      "preferred_foot--> 3..object\n",
      "attacking_work_rate--> 9..object\n",
      "defensive_work_rate--> 20..object\n",
      "crossing--> 96..float64\n",
      "finishing--> 98..float64\n",
      "heading_accuracy--> 97..float64\n",
      "short_passing--> 96..float64\n",
      "volleys--> 94..float64\n",
      "dribbling--> 98..float64\n",
      "curve--> 93..float64\n",
      "free_kick_accuracy--> 98..float64\n",
      "long_passing--> 96..float64\n",
      "ball_control--> 94..float64\n",
      "acceleration--> 87..float64\n",
      "sprint_speed--> 86..float64\n",
      "agility--> 82..float64\n",
      "reactions--> 79..float64\n",
      "balance--> 82..float64\n",
      "shot_power--> 97..float64\n",
      "jumping--> 80..float64\n",
      "stamina--> 85..float64\n",
      "strength--> 83..float64\n",
      "long_shots--> 97..float64\n",
      "aggression--> 92..float64\n",
      "interceptions--> 97..float64\n",
      "positioning--> 96..float64\n",
      "vision--> 98..float64\n",
      "penalties--> 95..float64\n",
      "marking--> 96..float64\n",
      "standing_tackle--> 96..float64\n",
      "sliding_tackle--> 95..float64\n",
      "gk_diving--> 94..float64\n",
      "gk_handling--> 91..float64\n",
      "gk_kicking--> 98..float64\n",
      "gk_positioning--> 95..float64\n",
      "gk_reflexes--> 93..float64\n"
     ]
    }
   ],
   "source": [
    "for col in df.columns:\n",
    "    unique_cat = len(df[col].unique())\n",
    "    print(\"{col}--> {unique_cat}..{typ}\".format(col=col, unique_cat=unique_cat, typ=df[col].dtype))"
   ]
  },
  {
   "cell_type": "markdown",
   "metadata": {},
   "source": [
    "There are only four features that have the type 'object'.  The feature named 'date' has no significance in this problem so we can ignore it and perform one hot encoding on the rest of the 3 features."
   ]
  },
  {
   "cell_type": "code",
   "execution_count": 18,
   "metadata": {},
   "outputs": [
    {
     "data": {
      "text/html": [
       "<div>\n",
       "<style scoped>\n",
       "    .dataframe tbody tr th:only-of-type {\n",
       "        vertical-align: middle;\n",
       "    }\n",
       "\n",
       "    .dataframe tbody tr th {\n",
       "        vertical-align: top;\n",
       "    }\n",
       "\n",
       "    .dataframe thead th {\n",
       "        text-align: right;\n",
       "    }\n",
       "</style>\n",
       "<table border=\"1\" class=\"dataframe\">\n",
       "  <thead>\n",
       "    <tr style=\"text-align: right;\">\n",
       "      <th></th>\n",
       "      <th>id</th>\n",
       "      <th>player_fifa_api_id</th>\n",
       "      <th>player_api_id</th>\n",
       "      <th>date</th>\n",
       "      <th>potential</th>\n",
       "      <th>crossing</th>\n",
       "      <th>finishing</th>\n",
       "      <th>heading_accuracy</th>\n",
       "      <th>short_passing</th>\n",
       "      <th>volleys</th>\n",
       "      <th>...</th>\n",
       "      <th>defensive_work_rate_9</th>\n",
       "      <th>defensive_work_rate__0</th>\n",
       "      <th>defensive_work_rate_ean</th>\n",
       "      <th>defensive_work_rate_es</th>\n",
       "      <th>defensive_work_rate_high</th>\n",
       "      <th>defensive_work_rate_low</th>\n",
       "      <th>defensive_work_rate_medium</th>\n",
       "      <th>defensive_work_rate_o</th>\n",
       "      <th>defensive_work_rate_ormal</th>\n",
       "      <th>defensive_work_rate_tocky</th>\n",
       "    </tr>\n",
       "  </thead>\n",
       "  <tbody>\n",
       "    <tr>\n",
       "      <th>0</th>\n",
       "      <td>1</td>\n",
       "      <td>218353</td>\n",
       "      <td>505942</td>\n",
       "      <td>2016-02-18 00:00:00</td>\n",
       "      <td>71.0</td>\n",
       "      <td>49.0</td>\n",
       "      <td>44.0</td>\n",
       "      <td>71.0</td>\n",
       "      <td>61.0</td>\n",
       "      <td>44.0</td>\n",
       "      <td>...</td>\n",
       "      <td>0</td>\n",
       "      <td>0</td>\n",
       "      <td>0</td>\n",
       "      <td>0</td>\n",
       "      <td>0</td>\n",
       "      <td>0</td>\n",
       "      <td>1</td>\n",
       "      <td>0</td>\n",
       "      <td>0</td>\n",
       "      <td>0</td>\n",
       "    </tr>\n",
       "    <tr>\n",
       "      <th>1</th>\n",
       "      <td>2</td>\n",
       "      <td>218353</td>\n",
       "      <td>505942</td>\n",
       "      <td>2015-11-19 00:00:00</td>\n",
       "      <td>71.0</td>\n",
       "      <td>49.0</td>\n",
       "      <td>44.0</td>\n",
       "      <td>71.0</td>\n",
       "      <td>61.0</td>\n",
       "      <td>44.0</td>\n",
       "      <td>...</td>\n",
       "      <td>0</td>\n",
       "      <td>0</td>\n",
       "      <td>0</td>\n",
       "      <td>0</td>\n",
       "      <td>0</td>\n",
       "      <td>0</td>\n",
       "      <td>1</td>\n",
       "      <td>0</td>\n",
       "      <td>0</td>\n",
       "      <td>0</td>\n",
       "    </tr>\n",
       "    <tr>\n",
       "      <th>2</th>\n",
       "      <td>3</td>\n",
       "      <td>218353</td>\n",
       "      <td>505942</td>\n",
       "      <td>2015-09-21 00:00:00</td>\n",
       "      <td>66.0</td>\n",
       "      <td>49.0</td>\n",
       "      <td>44.0</td>\n",
       "      <td>71.0</td>\n",
       "      <td>61.0</td>\n",
       "      <td>44.0</td>\n",
       "      <td>...</td>\n",
       "      <td>0</td>\n",
       "      <td>0</td>\n",
       "      <td>0</td>\n",
       "      <td>0</td>\n",
       "      <td>0</td>\n",
       "      <td>0</td>\n",
       "      <td>1</td>\n",
       "      <td>0</td>\n",
       "      <td>0</td>\n",
       "      <td>0</td>\n",
       "    </tr>\n",
       "    <tr>\n",
       "      <th>3</th>\n",
       "      <td>4</td>\n",
       "      <td>218353</td>\n",
       "      <td>505942</td>\n",
       "      <td>2015-03-20 00:00:00</td>\n",
       "      <td>65.0</td>\n",
       "      <td>48.0</td>\n",
       "      <td>43.0</td>\n",
       "      <td>70.0</td>\n",
       "      <td>60.0</td>\n",
       "      <td>43.0</td>\n",
       "      <td>...</td>\n",
       "      <td>0</td>\n",
       "      <td>0</td>\n",
       "      <td>0</td>\n",
       "      <td>0</td>\n",
       "      <td>0</td>\n",
       "      <td>0</td>\n",
       "      <td>1</td>\n",
       "      <td>0</td>\n",
       "      <td>0</td>\n",
       "      <td>0</td>\n",
       "    </tr>\n",
       "    <tr>\n",
       "      <th>4</th>\n",
       "      <td>5</td>\n",
       "      <td>218353</td>\n",
       "      <td>505942</td>\n",
       "      <td>2007-02-22 00:00:00</td>\n",
       "      <td>65.0</td>\n",
       "      <td>48.0</td>\n",
       "      <td>43.0</td>\n",
       "      <td>70.0</td>\n",
       "      <td>60.0</td>\n",
       "      <td>43.0</td>\n",
       "      <td>...</td>\n",
       "      <td>0</td>\n",
       "      <td>0</td>\n",
       "      <td>0</td>\n",
       "      <td>0</td>\n",
       "      <td>0</td>\n",
       "      <td>0</td>\n",
       "      <td>1</td>\n",
       "      <td>0</td>\n",
       "      <td>0</td>\n",
       "      <td>0</td>\n",
       "    </tr>\n",
       "  </tbody>\n",
       "</table>\n",
       "<p>5 rows × 67 columns</p>\n",
       "</div>"
      ],
      "text/plain": [
       "   id  player_fifa_api_id  player_api_id                 date  potential  \\\n",
       "0   1              218353         505942  2016-02-18 00:00:00       71.0   \n",
       "1   2              218353         505942  2015-11-19 00:00:00       71.0   \n",
       "2   3              218353         505942  2015-09-21 00:00:00       66.0   \n",
       "3   4              218353         505942  2015-03-20 00:00:00       65.0   \n",
       "4   5              218353         505942  2007-02-22 00:00:00       65.0   \n",
       "\n",
       "   crossing  finishing  heading_accuracy  short_passing  volleys  ...  \\\n",
       "0      49.0       44.0              71.0           61.0     44.0  ...   \n",
       "1      49.0       44.0              71.0           61.0     44.0  ...   \n",
       "2      49.0       44.0              71.0           61.0     44.0  ...   \n",
       "3      48.0       43.0              70.0           60.0     43.0  ...   \n",
       "4      48.0       43.0              70.0           60.0     43.0  ...   \n",
       "\n",
       "   defensive_work_rate_9  defensive_work_rate__0  defensive_work_rate_ean  \\\n",
       "0                      0                       0                        0   \n",
       "1                      0                       0                        0   \n",
       "2                      0                       0                        0   \n",
       "3                      0                       0                        0   \n",
       "4                      0                       0                        0   \n",
       "\n",
       "   defensive_work_rate_es  defensive_work_rate_high  defensive_work_rate_low  \\\n",
       "0                       0                         0                        0   \n",
       "1                       0                         0                        0   \n",
       "2                       0                         0                        0   \n",
       "3                       0                         0                        0   \n",
       "4                       0                         0                        0   \n",
       "\n",
       "   defensive_work_rate_medium  defensive_work_rate_o  \\\n",
       "0                           1                      0   \n",
       "1                           1                      0   \n",
       "2                           1                      0   \n",
       "3                           1                      0   \n",
       "4                           1                      0   \n",
       "\n",
       "   defensive_work_rate_ormal  defensive_work_rate_tocky  \n",
       "0                          0                          0  \n",
       "1                          0                          0  \n",
       "2                          0                          0  \n",
       "3                          0                          0  \n",
       "4                          0                          0  \n",
       "\n",
       "[5 rows x 67 columns]"
      ]
     },
     "execution_count": 18,
     "metadata": {},
     "output_type": "execute_result"
    }
   ],
   "source": [
    "dummy_df = pd.get_dummies(df, columns=['preferred_foot', 'attacking_work_rate', 'defensive_work_rate'])\n",
    "dummy_df.head()"
   ]
  },
  {
   "cell_type": "code",
   "execution_count": 19,
   "metadata": {},
   "outputs": [],
   "source": [
    "X = dummy_df.drop(['id', 'date'], axis=1)"
   ]
  },
  {
   "cell_type": "markdown",
   "metadata": {},
   "source": [
    "#### Feature selection"
   ]
  },
  {
   "cell_type": "markdown",
   "metadata": {},
   "source": [
    "As tree model doesn't get affected by missing values present in data set, feature selection by SelectFromModel can not be done on datasets that carries null values. Therefore, we should also perform imputation on dataset."
   ]
  },
  {
   "cell_type": "code",
   "execution_count": 20,
   "metadata": {},
   "outputs": [],
   "source": [
    "X_train, X_test, y_train, y_test = train_test_split(X, y, test_size=0.25, random_state=42)"
   ]
  },
  {
   "cell_type": "code",
   "execution_count": 21,
   "metadata": {},
   "outputs": [],
   "source": [
    "# Imputing null value of each column with the mean of that column\n",
    "imput = Imputer()\n",
    "X_train = imput.fit_transform(X_train)\n",
    "X_test = imput.fit_transform(X_test)"
   ]
  },
  {
   "cell_type": "code",
   "execution_count": 22,
   "metadata": {},
   "outputs": [
    {
     "name": "stdout",
     "output_type": "stream",
     "text": [
      "[13:25:47] WARNING: src/objective/regression_obj.cu:152: reg:linear is now deprecated in favor of reg:squarederror.\n",
      "[0.05115651 0.02897777 0.13911739 0.02826106 0.00595768 0.04332646\n",
      " 0.01590659 0.         0.01287898 0.         0.         0.00348626\n",
      " 0.13141693 0.00436716 0.0058711  0.0065089  0.16110069 0.\n",
      " 0.05513685 0.0040621  0.00863542 0.03761797 0.00898127 0.0139806\n",
      " 0.01894557 0.02671051 0.0015188  0.         0.03219567 0.0530614\n",
      " 0.00176505 0.02725989 0.02712863 0.01008714 0.02617038 0.00840923\n",
      " 0.         0.         0.         0.         0.         0.\n",
      " 0.         0.         0.         0.         0.         0.\n",
      " 0.         0.         0.         0.         0.         0.\n",
      " 0.         0.         0.         0.         0.         0.\n",
      " 0.         0.         0.         0.         0.        ]\n"
     ]
    }
   ],
   "source": [
    "# Finding feature_importance for feature selection. This will help us decide threshold value.\n",
    "model = XGBRegressor()\n",
    "model.fit(X_train, y_train)\n",
    "print(model.feature_importances_)"
   ]
  },
  {
   "cell_type": "code",
   "execution_count": 23,
   "metadata": {},
   "outputs": [],
   "source": [
    "selection = SelectFromModel(model, threshold=0.01, prefit=True)\n",
    "\n",
    "select_X_train = selection.transform(X_train)\n",
    "select_X_test = selection.transform(X_test)"
   ]
  },
  {
   "cell_type": "code",
   "execution_count": 24,
   "metadata": {},
   "outputs": [
    {
     "data": {
      "text/plain": [
       "(137983, 20)"
      ]
     },
     "execution_count": 24,
     "metadata": {},
     "output_type": "execute_result"
    }
   ],
   "source": [
    "select_X_train.shape"
   ]
  },
  {
   "cell_type": "markdown",
   "metadata": {},
   "source": [
    "#### Training different models"
   ]
  },
  {
   "cell_type": "markdown",
   "metadata": {},
   "source": [
    "#### 1. Linear Regression"
   ]
  },
  {
   "cell_type": "code",
   "execution_count": 25,
   "metadata": {},
   "outputs": [],
   "source": [
    "pipe = make_pipeline(StandardScaler(),LinearRegression())\n",
    "\n",
    "cv = ShuffleSplit(random_state=0)   # Defining type of cross_validation(shuffle spliting)\n",
    "\n",
    "param_grid = {'linearregression__n_jobs': [-1]}     # Parameters for model tunning\n",
    "\n",
    "grid = GridSearchCV(pipe, param_grid=param_grid, cv=cv)"
   ]
  },
  {
   "cell_type": "code",
   "execution_count": 26,
   "metadata": {},
   "outputs": [
    {
     "data": {
      "text/plain": [
       "GridSearchCV(cv=ShuffleSplit(n_splits=10, random_state=0, test_size='default',\n",
       "       train_size=None),\n",
       "       error_score='raise-deprecating',\n",
       "       estimator=Pipeline(memory=None,\n",
       "     steps=[('standardscaler', StandardScaler(copy=True, with_mean=True, with_std=True)), ('linearregression', LinearRegression(copy_X=True, fit_intercept=True, n_jobs=None,\n",
       "         normalize=False))]),\n",
       "       fit_params=None, iid='warn', n_jobs=None,\n",
       "       param_grid={'linearregression__n_jobs': [-1]},\n",
       "       pre_dispatch='2*n_jobs', refit=True, return_train_score='warn',\n",
       "       scoring=None, verbose=0)"
      ]
     },
     "execution_count": 26,
     "metadata": {},
     "output_type": "execute_result"
    }
   ],
   "source": [
    "grid.fit(select_X_train, y_train)          #training"
   ]
  },
  {
   "cell_type": "code",
   "execution_count": 27,
   "metadata": {},
   "outputs": [
    {
     "data": {
      "text/plain": [
       "{'linearregression__n_jobs': -1}"
      ]
     },
     "execution_count": 27,
     "metadata": {},
     "output_type": "execute_result"
    }
   ],
   "source": [
    "grid.best_params_"
   ]
  },
  {
   "cell_type": "code",
   "execution_count": 28,
   "metadata": {},
   "outputs": [],
   "source": [
    "lin_reg = pickle.dumps(grid)"
   ]
  },
  {
   "cell_type": "markdown",
   "metadata": {},
   "source": [
    "#### 2. Decision Tree"
   ]
  },
  {
   "cell_type": "code",
   "execution_count": 29,
   "metadata": {},
   "outputs": [],
   "source": [
    "pipe = make_pipeline(StandardScaler(), DecisionTreeRegressor(criterion='mse', random_state=0))  # Estimator\n",
    "\n",
    "cv = ShuffleSplit(n_splits=10, random_state=42)  # Cross validation\n",
    "\n",
    "param_grid = {'decisiontreeregressor__max_depth': [3, 5, 7, 9, 13]}\n",
    "\n",
    "grid = GridSearchCV(pipe, param_grid=param_grid, cv=cv)"
   ]
  },
  {
   "cell_type": "code",
   "execution_count": 30,
   "metadata": {},
   "outputs": [
    {
     "data": {
      "text/plain": [
       "GridSearchCV(cv=ShuffleSplit(n_splits=10, random_state=42, test_size='default',\n",
       "       train_size=None),\n",
       "       error_score='raise-deprecating',\n",
       "       estimator=Pipeline(memory=None,\n",
       "     steps=[('standardscaler', StandardScaler(copy=True, with_mean=True, with_std=True)), ('decisiontreeregressor', DecisionTreeRegressor(criterion='mse', max_depth=None, max_features=None,\n",
       "           max_leaf_nodes=None, min_impurity_decrease=0.0,\n",
       "           min_impurity_split=None, min_samples_leaf=1,\n",
       "           min_samples_split=2, min_weight_fraction_leaf=0.0,\n",
       "           presort=False, random_state=0, splitter='best'))]),\n",
       "       fit_params=None, iid='warn', n_jobs=None,\n",
       "       param_grid={'decisiontreeregressor__max_depth': [3, 5, 7, 9, 13]},\n",
       "       pre_dispatch='2*n_jobs', refit=True, return_train_score='warn',\n",
       "       scoring=None, verbose=0)"
      ]
     },
     "execution_count": 30,
     "metadata": {},
     "output_type": "execute_result"
    }
   ],
   "source": [
    "grid.fit(select_X_train, y_train)   # Training"
   ]
  },
  {
   "cell_type": "code",
   "execution_count": 31,
   "metadata": {},
   "outputs": [
    {
     "data": {
      "text/plain": [
       "{'decisiontreeregressor__max_depth': 13}"
      ]
     },
     "execution_count": 31,
     "metadata": {},
     "output_type": "execute_result"
    }
   ],
   "source": [
    "grid.best_params_"
   ]
  },
  {
   "cell_type": "code",
   "execution_count": 32,
   "metadata": {},
   "outputs": [],
   "source": [
    "Dectree_reg = pickle.dumps(grid)"
   ]
  },
  {
   "cell_type": "markdown",
   "metadata": {},
   "source": [
    "#### 3. Random Forest"
   ]
  },
  {
   "cell_type": "code",
   "execution_count": 33,
   "metadata": {},
   "outputs": [],
   "source": [
    "pipe = make_pipeline(StandardScaler(), RandomForestRegressor(n_estimators=500, random_state=123))\n",
    "\n",
    "cv = ShuffleSplit(test_size=0.2, random_state=0)\n",
    "\n",
    "param_grid = {'randomforestregressor__max_features':['sqrt', 'log2', 10],'randomforestregressor__max_depth':[9, 11, 13]}                 \n",
    "\n",
    "grid = GridSearchCV(pipe, param_grid=param_grid, cv=cv)"
   ]
  },
  {
   "cell_type": "code",
   "execution_count": 34,
   "metadata": {},
   "outputs": [
    {
     "data": {
      "text/plain": [
       "GridSearchCV(cv=ShuffleSplit(n_splits=10, random_state=0, test_size=0.2, train_size=None),\n",
       "       error_score='raise-deprecating',\n",
       "       estimator=Pipeline(memory=None,\n",
       "     steps=[('standardscaler', StandardScaler(copy=True, with_mean=True, with_std=True)), ('randomforestregressor', RandomForestRegressor(bootstrap=True, criterion='mse', max_depth=None,\n",
       "           max_features='auto', max_leaf_nodes=None,\n",
       "           min_impurity_decr...tors=500, n_jobs=None,\n",
       "           oob_score=False, random_state=123, verbose=0, warm_start=False))]),\n",
       "       fit_params=None, iid='warn', n_jobs=None,\n",
       "       param_grid={'randomforestregressor__max_features': ['sqrt', 'log2', 10], 'randomforestregressor__max_depth': [9, 11, 13]},\n",
       "       pre_dispatch='2*n_jobs', refit=True, return_train_score='warn',\n",
       "       scoring=None, verbose=0)"
      ]
     },
     "execution_count": 34,
     "metadata": {},
     "output_type": "execute_result"
    }
   ],
   "source": [
    "grid.fit(select_X_train, y_train)   # Training"
   ]
  },
  {
   "cell_type": "code",
   "execution_count": 35,
   "metadata": {},
   "outputs": [
    {
     "data": {
      "text/plain": [
       "{'randomforestregressor__max_depth': 13,\n",
       " 'randomforestregressor__max_features': 10}"
      ]
     },
     "execution_count": 35,
     "metadata": {},
     "output_type": "execute_result"
    }
   ],
   "source": [
    "grid.best_params_"
   ]
  },
  {
   "cell_type": "code",
   "execution_count": 36,
   "metadata": {},
   "outputs": [],
   "source": [
    "Randfor_reg = pickle.dumps(grid)"
   ]
  },
  {
   "cell_type": "markdown",
   "metadata": {},
   "source": [
    "#### 4. Xgboost regressor"
   ]
  },
  {
   "cell_type": "code",
   "execution_count": 37,
   "metadata": {},
   "outputs": [],
   "source": [
    "pipe = make_pipeline(StandardScaler(), XGBRegressor(n_estimators= 500, random_state=42))\n",
    "\n",
    "cv = ShuffleSplit(n_splits=10, random_state=0)\n",
    "\n",
    "param_grid = {'xgbregressor__max_depth': [5, 7], 'xgbregressor__learning_rate': [0.1, 0.3]}\n",
    "\n",
    "grid = GridSearchCV(pipe, param_grid=param_grid, cv=cv, n_jobs= -1)"
   ]
  },
  {
   "cell_type": "code",
   "execution_count": 38,
   "metadata": {},
   "outputs": [
    {
     "name": "stdout",
     "output_type": "stream",
     "text": [
      "[02:27:51] WARNING: src/objective/regression_obj.cu:152: reg:linear is now deprecated in favor of reg:squarederror.\n"
     ]
    },
    {
     "data": {
      "text/plain": [
       "GridSearchCV(cv=ShuffleSplit(n_splits=10, random_state=0, test_size='default',\n",
       "       train_size=None),\n",
       "       error_score='raise-deprecating',\n",
       "       estimator=Pipeline(memory=None,\n",
       "     steps=[('standardscaler', StandardScaler(copy=True, with_mean=True, with_std=True)), ('xgbregressor', XGBRegressor(base_score=0.5, booster='gbtree', colsample_bylevel=1,\n",
       "       colsample_bynode=1, colsample_bytree=1, gamma=0,\n",
       "       importance_type='gain', learning_rate=0.1, max_delta_step=0,\n",
       "      ...lpha=0, reg_lambda=1, scale_pos_weight=1, seed=None,\n",
       "       silent=None, subsample=1, verbosity=1))]),\n",
       "       fit_params=None, iid='warn', n_jobs=-1,\n",
       "       param_grid={'xgbregressor__max_depth': [5, 7], 'xgbregressor__learning_rate': [0.1, 0.3]},\n",
       "       pre_dispatch='2*n_jobs', refit=True, return_train_score='warn',\n",
       "       scoring=None, verbose=0)"
      ]
     },
     "execution_count": 38,
     "metadata": {},
     "output_type": "execute_result"
    }
   ],
   "source": [
    "grid.fit(select_X_train, y_train)"
   ]
  },
  {
   "cell_type": "code",
   "execution_count": 39,
   "metadata": {},
   "outputs": [
    {
     "data": {
      "text/plain": [
       "{'xgbregressor__learning_rate': 0.3, 'xgbregressor__max_depth': 7}"
      ]
     },
     "execution_count": 39,
     "metadata": {},
     "output_type": "execute_result"
    }
   ],
   "source": [
    "grid.best_params_"
   ]
  },
  {
   "cell_type": "code",
   "execution_count": 40,
   "metadata": {},
   "outputs": [],
   "source": [
    "xgbreg = pickle.dumps(grid)"
   ]
  },
  {
   "cell_type": "markdown",
   "metadata": {},
   "source": [
    "#### Conclusion"
   ]
  },
  {
   "cell_type": "code",
   "execution_count": 41,
   "metadata": {},
   "outputs": [
    {
     "name": "stdout",
     "output_type": "stream",
     "text": [
      "[02:30:17] WARNING: src/objective/regression_obj.cu:152: reg:linear is now deprecated in favor of reg:squarederror.\n"
     ]
    }
   ],
   "source": [
    "lin_reg = pickle.loads(lin_reg)\n",
    "Dectree_reg = pickle.loads(Dectree_reg)\n",
    "Randfor_reg = pickle.loads(Randfor_reg)\n",
    "xgbreg = pickle.loads(xgbreg)"
   ]
  },
  {
   "cell_type": "code",
   "execution_count": 42,
   "metadata": {},
   "outputs": [
    {
     "name": "stdout",
     "output_type": "stream",
     "text": [
      "Linear Regressor accuracy is 0.8536768959300971\n",
      "DecisionTree Regressor accuracy is 0.9270795886776287\n",
      "RandomForest regressor accuracy is 0.9615008079149985\n",
      "XGBoost regressor accuracy is 0.9797578207551222\n"
     ]
    }
   ],
   "source": [
    "print(\"\"\"Linear Regressor accuracy is {lin}\n",
    "DecisionTree Regressor accuracy is {Dec}\n",
    "RandomForest regressor accuracy is {ran}\n",
    "XGBoost regressor accuracy is {xgb}\"\"\".format(lin=lin_reg.score(select_X_test, y_test), Dec=Dectree_reg.score(select_X_test, y_test), ran=Randfor_reg.score(select_X_test, y_test), xgb=xgbreg.score(select_X_test, y_test)))"
   ]
  },
  {
   "cell_type": "markdown",
   "metadata": {},
   "source": [
    "After comparing above models, XGBoost appeas to be the best among other models as the accuracy is at 98%"
   ]
  },
  {
   "cell_type": "code",
   "execution_count": null,
   "metadata": {},
   "outputs": [],
   "source": []
  }
 ],
 "metadata": {
  "kernelspec": {
   "display_name": "Python 3",
   "language": "python",
   "name": "python3"
  },
  "language_info": {
   "codemirror_mode": {
    "name": "ipython",
    "version": 3
   },
   "file_extension": ".py",
   "mimetype": "text/x-python",
   "name": "python",
   "nbconvert_exporter": "python",
   "pygments_lexer": "ipython3",
   "version": "3.7.3"
  }
 },
 "nbformat": 4,
 "nbformat_minor": 2
}
